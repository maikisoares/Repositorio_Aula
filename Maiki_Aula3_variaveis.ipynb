{
  "nbformat": 4,
  "nbformat_minor": 0,
  "metadata": {
    "colab": {
      "name": "Aula_3_Variaveis_Ale.ipynb",
      "provenance": [],
      "include_colab_link": true
    },
    "kernelspec": {
      "name": "python3",
      "display_name": "Python 3"
    },
    "language_info": {
      "name": "python"
    }
  },
  "cells": [
    {
      "cell_type": "markdown",
      "metadata": {
        "id": "view-in-github",
        "colab_type": "text"
      },
      "source": [
        "<a href=\"https://colab.research.google.com/github/maikisoares/Repositorio_Aula/blob/main/Maiki_Aula3_variaveis.ipynb\" target=\"_parent\"><img src=\"https://colab.research.google.com/assets/colab-badge.svg\" alt=\"Open In Colab\"/></a>"
      ]
    },
    {
      "cell_type": "markdown",
      "source": [
        "# Valor\n",
        "\n",
        " **Valor:** É uma palavra ou número que um programa pode manipular. Também são conhecidos como **objetos**.\n",
        "\n"
      ],
      "metadata": {
        "id": "rTtqwlYbAG1C"
      }
    },
    {
      "cell_type": "code",
      "source": [
        "print(4)"
      ],
      "metadata": {
        "id": "HCSmb0bGD_FQ"
      },
      "execution_count": null,
      "outputs": []
    },
    {
      "cell_type": "code",
      "source": [
        "print('Good-bye World')"
      ],
      "metadata": {
        "id": "jOHGZzcLaR2o"
      },
      "execution_count": null,
      "outputs": []
    },
    {
      "cell_type": "code",
      "source": [
        "4.5 "
      ],
      "metadata": {
        "id": "Gjm3avZdaYpA"
      },
      "execution_count": null,
      "outputs": []
    },
    {
      "cell_type": "markdown",
      "source": [
        "#Variável\n",
        "\n",
        "Uma **variável** é um nome que se atribue a um **valor**, e pode ser alterado ao longo da execução do programa. \n",
        "\n",
        "Para criar uma variável, basta atribuir um valor. A atribuição é feita com um único sinal de igual ( =)"
      ],
      "metadata": {
        "id": "Y4mpD-k1D6Y-"
      }
    },
    {
      "cell_type": "code",
      "source": [
        "a = 1000\n",
        "print(a)"
      ],
      "metadata": {
        "id": "9lCbBJv4bZTo"
      },
      "execution_count": null,
      "outputs": []
    },
    {
      "cell_type": "code",
      "source": [
        "#Strings também podem ser variáveis\n",
        "b = 'Bolo'\n",
        "print(b)"
      ],
      "metadata": {
        "id": "59NTlyWPdDzN"
      },
      "execution_count": null,
      "outputs": []
    },
    {
      "cell_type": "markdown",
      "source": [
        "Para saber o tipo de valor da variável, usamos o type()"
      ],
      "metadata": {
        "id": "2O_qPT2Yf6ms"
      }
    },
    {
      "cell_type": "code",
      "source": [
        "type(b)"
      ],
      "metadata": {
        "id": "mgDqGeBcgDHD"
      },
      "execution_count": null,
      "outputs": []
    },
    {
      "cell_type": "markdown",
      "source": [
        "O Python também permite atribuição encadeada, o que possibilita atribuir o mesmo valor a várias variáveis ​​simultaneamente:"
      ],
      "metadata": {
        "id": "ZQ8OuHipexAx"
      }
    },
    {
      "cell_type": "code",
      "source": [
        "x = y = z = 8 \n",
        "print(x,y,z)"
      ],
      "metadata": {
        "id": "faciIBTQe5Gv"
      },
      "execution_count": null,
      "outputs": []
    },
    {
      "cell_type": "markdown",
      "source": [
        "##Referências de objetos\n",
        "\n",
        "O que acontece se eu mudar o valor de 'a'? "
      ],
      "metadata": {
        "id": "_661K862ebdO"
      }
    },
    {
      "cell_type": "code",
      "source": [
        "print(a)"
      ],
      "metadata": {
        "id": "yea_xR-hkE0B"
      },
      "execution_count": null,
      "outputs": []
    },
    {
      "cell_type": "code",
      "source": [
        "a = 400 \n",
        "print(a)"
      ],
      "metadata": {
        "id": "K6mJmK2Geg-S"
      },
      "execution_count": null,
      "outputs": []
    },
    {
      "cell_type": "markdown",
      "source": [
        "Uma variável é um nome simbólico que é uma referência  para um objeto. Depois que um objeto é atribuído a uma variável, você pode se referir ao objeto por esse nome. Mas os dados em si ainda estão contidos no objeto."
      ],
      "metadata": {
        "id": "J9oNnDS2htY5"
      }
    },
    {
      "cell_type": "code",
      "source": [
        "n = 300 "
      ],
      "metadata": {
        "id": "Si8vUnIViSsw"
      },
      "execution_count": null,
      "outputs": []
    },
    {
      "cell_type": "markdown",
      "source": [
        "![image.png](data:image/png;base64,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)"
      ],
      "metadata": {
        "id": "N2PYBo_gixq3"
      }
    },
    {
      "cell_type": "code",
      "source": [
        "m = n "
      ],
      "metadata": {
        "id": "r_Gjhaavi3lx"
      },
      "execution_count": null,
      "outputs": []
    },
    {
      "cell_type": "markdown",
      "source": [
        "O Python não cria outro objeto. Ele simplesmente cria um novo nome simbólico ou referência, m, que aponta para o mesmo objeto que n aponta.\n",
        "\n",
        "![image.png](data:image/png;base64,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)\n",
        "\n",
        "\n"
      ],
      "metadata": {
        "id": "k_-o5hlOjGbw"
      }
    },
    {
      "cell_type": "code",
      "source": [
        "print(m)"
      ],
      "metadata": {
        "id": "j_gnmVm_kVKz"
      },
      "execution_count": null,
      "outputs": []
    },
    {
      "cell_type": "code",
      "source": [
        "# E se eu mudar o valor de m? \n",
        "m = 400 "
      ],
      "metadata": {
        "id": "M3j-HayVkthp"
      },
      "execution_count": null,
      "outputs": []
    },
    {
      "cell_type": "code",
      "source": [
        "print(n,m)"
      ],
      "metadata": {
        "id": "3mso6yb4kz6J"
      },
      "execution_count": null,
      "outputs": []
    },
    {
      "cell_type": "markdown",
      "source": [
        "Agora o Python cria um novo objeto inteiro com o valor 400 e **m** se torna uma referência a ele.\n",
        "\n",
        "![image.png](data:image/png;base64,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)"
      ],
      "metadata": {
        "id": "DFeDrpD9kmdZ"
      }
    },
    {
      "cell_type": "markdown",
      "source": [
        "E se eu mudar **n**?"
      ],
      "metadata": {
        "id": "jNrDoglBlUVq"
      }
    },
    {
      "cell_type": "code",
      "source": [
        "n = 'foo'"
      ],
      "metadata": {
        "id": "2pLXNgxVmUrH"
      },
      "execution_count": null,
      "outputs": []
    },
    {
      "cell_type": "markdown",
      "source": [
        "Agora Python cria um objeto string com o valor \"foo\" e atribui ao **n**.\n",
        "\n",
        "\n",
        "![image.png](data:image/png;base64,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)\n",
        "\n",
        "Não há mais nenhuma referência ao objeto inteiro 300. É órfão e não há como acessá-lo. (Tadinho do coitado)\n"
      ],
      "metadata": {
        "id": "PBwCUQfHmXp-"
      }
    },
    {
      "cell_type": "code",
      "source": [
        "print(n,m)"
      ],
      "metadata": {
        "id": "3WWKmulWnB2w"
      },
      "execution_count": null,
      "outputs": []
    },
    {
      "cell_type": "markdown",
      "source": [
        "*\n",
        "\n"
      ],
      "metadata": {
        "id": "gQGhWQTpsA15"
      }
    },
    {
      "cell_type": "markdown",
      "source": [
        "**Posso colocar qualquer nome nas variáveis?** \n",
        "\n",
        "- Sim, oficialmente, nomes de variáveis ​​em Python podem ter qualquer tamanho e podem consistir em letras maiúsculas e minúsculas ( A-Z, a-z), dígitos ( 0-9) e o caractere sublinhado ( _).\n",
        "\n",
        "\n",
        "  *Porém não seja idiota.*"
      ],
      "metadata": {
        "id": "PCzMkI9gnUae"
      }
    },
    {
      "cell_type": "markdown",
      "source": [
        "####**Boas práticas de nomeação de variavéis**\n",
        "\n",
        "\n",
        "**1.** Escolha um nome significativo para sua variável, que seja descritivo do conteúdo \n"
      ],
      "metadata": {
        "id": "QBg8baOOoI8b"
      }
    },
    {
      "cell_type": "code",
      "source": [
        "x = 'banana'\n",
        "y = 'abacaxi'"
      ],
      "metadata": {
        "id": "krlxg9s0o-cU"
      },
      "execution_count": null,
      "outputs": []
    },
    {
      "cell_type": "markdown",
      "source": [
        "ou"
      ],
      "metadata": {
        "id": "-RNUc4ppped4"
      }
    },
    {
      "cell_type": "code",
      "source": [
        "frutaboa = 'abacaxi'\n",
        "frutaruim = 'banana'"
      ],
      "metadata": {
        "id": "OEog1zsJpfq0"
      },
      "execution_count": null,
      "outputs": []
    },
    {
      "cell_type": "markdown",
      "source": [
        "**2.** Podem conter tanto letras como números, porém **não** podem começar com um número. Embora pode conter letras maiúsculas, é mais recomendado usar só minúsculas. "
      ],
      "metadata": {
        "id": "tTip2jdYpsYm"
      }
    },
    {
      "cell_type": "code",
      "source": [
        "fruta1 = 'banana'\n",
        "fruta1"
      ],
      "metadata": {
        "id": "URWkeIUyp4u2"
      },
      "execution_count": null,
      "outputs": []
    },
    {
      "cell_type": "code",
      "source": [
        "2fruta = 'abacaxi'\n",
        "2fruta"
      ],
      "metadata": {
        "id": "CxSbSSjVp498"
      },
      "execution_count": null,
      "outputs": []
    },
    {
      "cell_type": "markdown",
      "source": [
        "**3.** Use o caracter `_` para separar palavras"
      ],
      "metadata": {
        "id": "EnH0RZxRp5al"
      }
    },
    {
      "cell_type": "code",
      "source": [
        "fruta_boa = 'abacaxi'\n",
        "fruta_ruim = 'banana'"
      ],
      "metadata": {
        "id": "8HMFQfcFqF3Y"
      },
      "execution_count": null,
      "outputs": []
    },
    {
      "cell_type": "markdown",
      "source": [
        "**4.** Caracteres proibidos: `@`, `*`, `?`, `!`, `/`, `+`"
      ],
      "metadata": {
        "id": "jPh4vjpKqCck"
      }
    },
    {
      "cell_type": "code",
      "source": [
        "frut@ = 'banana'\n",
        "#fruta* = 'banana'\n",
        "#fruta? = 'banana'\n",
        "#fruta! = 'banana'"
      ],
      "metadata": {
        "id": "8mSN0dLMqMMw"
      },
      "execution_count": null,
      "outputs": []
    },
    {
      "cell_type": "markdown",
      "source": [
        "**5.** Letras maiusculas e minusculas são consideradas diferentes"
      ],
      "metadata": {
        "id": "jjPxVo6EqNIF"
      }
    },
    {
      "cell_type": "code",
      "source": [
        "ToMaTE = 5 \n",
        "tomate = 3 \n",
        "\n",
        "print(tomate)"
      ],
      "metadata": {
        "id": "oB9eJS9Fqr8O"
      },
      "execution_count": null,
      "outputs": []
    },
    {
      "cell_type": "markdown",
      "source": [
        "**6.** Palavras reservadas. As palavras-chave do Python **não** podem ser usadas para compor o nome da variável. \n",
        "\n",
        "![image.png](data:image/png;base64,iVBORw0KGgoAAAANSUhEUgAAAhUAAAClCAYAAADrsQ8iAAAgAElEQVR4nO3dy2rbWrgH8P8+nFcweNANtRB9ABMwhD1QoQOzx0LjbaFkUDJOhOd2FI9DB6kxZxpF4+JBIRqUgkniByhCFFqoiR9CZ6CLl+SbnCjx7f+DQmxdrL39eWnpW0v6/gqCIAARERHRM/3Pug+AiIiIdgM7FURERFQIdiqIiIioEOxUEBERUSFeqVMxRFuSIEkSJEmHPXqdT6XdM7TiOJKgO+N1Hw5tu/t2Ek9sm4ie76+8d3+MHR21Uzf1ntIZoKeWVvi4IdrSJeTvPWjlVQ6TKG1oSbiUV40/ItEQbUkFbB/Ng3UfC9Fu+N+V1j524JvVFzoUIqJXNPLgwcAJOxREhSlw+EMc4pAgWcMVth3D1oVtpTbSW6f3zbT3jkulpFf7vseOviCdvVqcSboNRtoO++3BnfX+yIYutTEU4yETC+IwXCrO7tuQLDuKMx32vQ2dsbS/RtH3P+u8mCPOtlKQ0+NNI6icP8xd/nDeCiZLH4JWpRK07qbWClqVRnD9Z5V9PwbXjUrQuHlcsm/aCXetoDIjRrIezsWYiPy5DlrCe483jaDSuA4exdcLY3jGPmnnPN40gkqlMv0vjo0/10GjUhHiMN3mzIyrStT+3bWCSrTuw3klen92u0e7LnuuCl8nbcySONtWq2UqrtTUFWT7frKoajYxGRipon4MeD9X6HNd9TEztzG6RR8WLpKx8yqOOgq6X1fJhNB2GMP+1IXSuXjanJuyhqYwx6L0Tx2K6+GXuM68OIu4X263/0qBFiqpPfi+D982ABhwfD98nRnaNex47pfYng3x+dSF8VFDKdnfBSyli37cHioWjqIhFaVzBA4Y76exc4muEAtAFU3bmGpjZsfZ9ipuTsV9G5LWTb2ldPLttqT24HgSVKkbbSdMwPvtwXW7qElm5lhOVjly2gq/4LmA/PGpky/HsPUazFRO20AcKQvjDEDVHMDSa0msGZzAt8cM1IXvvmr66AEAfgFQIL9Zz1HRlnknY3FrNi/OtlcxcypGNnStC8OOevy+D+d4tV1UzXhbB/JpLT2OrlgY+JN9z7qqoF3wN2Tl6VsPrRpMCLHy3UJ2dwvjDCVovcm2npbOxhGFXHi/xddhZ5hoyg8vlZUY//TWdiivpcCJmkLv/b4N9eqp+8mcWA7qMFwTZ5ycuQdKeP+vgq6WnUC5guTKYAy7ac6eiAdgaQemLEN+6jHQDgtT1N1Pkwl102luonj41cTn5MJkeuhsF602/DFPWcPJsQn1UIIJAIoF6xjox8uzQyOHEkwosL73oJVnpKyPHfjCHIqm76At1SCdTlZhano3ldQeBtBRk6TkvckwRfhcgUkkhTERL6/+Z0E5VCFFHVqjY0Fx4yuDZXGW3Xe0X8YYZVRNH44lCUOyBhx/t08U9ARlDb3vgH4oIW7N9qFNyf3wKyIiIqJFWPuDiIiICsFOBRERERWCnQoiIiIqBDsVREREVAh2KoiIiKgQ7FQQERFRIdipIBLFVQVXqrJLu0WsVputdLtMWAn36U9ifc5nE61fvk7FrIb2vr0bZVpprwyt1Uqp0z6qohk9yt3Yq88mer4VnqipQPnRxxBVVt2j3VXW0PO1dR8FEdFWWmH4Q0b9Xw+X867y4mxG/C+b1bCGGDt6sjx9tRimDGduS/vnvj2JhWysLIizsaNDd8YYWpPlcRo6jj31CnBPazO3F7ebymYsieGxo6fjdmRDl8QaJmJam9mS9Ut/H6sON4ixMns7cf/ZWjaZz2Z7t6OGaEttDMU2K5vdz7R12WEzsb2ZXp45b07F2ZoEefy5DhqVVvAQPAStxnXwGARBcNcKKvHfwUPQqlSC1l28Qfi6cRMuDe5aQaVSCSrnD8LrVvAQr30uLAseg+uGsC3tl7tWUKk0gus/sxYujrPHm0ZQyb5OYjTa4nx5bM1cZ0kMP940hBgOhN9MEEzHdPa/g15bqs35cx00Zn4fD0FrRixm4yqMu/R3LcZwun0LgofzSdzMj4XZn03bJPxus7GRagfENiPTpqTbkGlTbc6GWHGiZhX1d2LVtdB0lb4qmrYB98vtpFemWBjE5coP6jDgwRsBwBD9KwNOUsq8BO1jZlvaE2PYn7pQOhfQyjOW5omzYycqPhZXCfTwq6jDmxvDS4xu0YeFC6FI3lFHQffrRlxX7KEh+leA8SH6LsvvUVcA72eeFme60mRJvYCldNEX2kXD7iUxXP1gAFf95CqyajaFIeSw6mm+z6bto8D6Hn/fYRVm14tbpCqapjCZYGabko6rKUJcbYqV7/6o/mfBm9UYJiWnVzTy4KELVUwHihVNaY/8gucC8tsFkfTUOFun3x5c10RNiPHa6fyi7PTSwrL3SadudIu+q6D+T97IUiC/WeHj3shQxNeZlLd6tcK+aPv98JKLoPQwWrpKMsoaeraBrjZ76KSk9uAcT86dmzKkunrp8/J71H+cwZbl9Ps/PIxRTRr88U8PgJzdeg4Djt/kBNC9Fzb23qJVnhVna6RYGPRYHnszlCC/A3ClQopO6EpnMDM7NpsL7zeAZP2wM4yPc1b/7cFVZFwA4VwbrQvD9tGMMm5DS8LlU/4zaDtFF0ZjR4d6JZ77hmhLmUg4aML3m+FSS0JNR6odqZo+fDPetgYdgyRTuy5PeE5FCdpHGf0vk6Y/TDOLwyLTKcK5yu9RV7pQOVmJovRgV5s94ehZcRb5W1ZebmgtuQIZon1oIslFHNRhuCbONuRKYu+NbFxeGXB8H370L39DHA5XdD9Nrhqnh+VE0ZDev++FGBUyHfdtZir2xcjG2ak7GXYDAEXG39GfQyuTqcj4W1YWLcXCxa9o9UwFABzUIbsqXKUevi5r6H0H9EMJUrSK0hmgN/NHllWC1hsAeg2SNHlX6ay/x0Wvr6T2MICOmhAMSSw8K87i/V/A+lJDTTLDN44d+GYVYU9f/FHXIJ3mj8P0fhVYtgVFizveVTR9B20p3GdMvFqlV1TWcHIsQZXSTXjyXd+300OwhxJMKLC+h/MkqqYPx5ImMQQDjp/u2HY1KYmlVAyVNZwcm1APJZgAoFiwjoF+vOGSz6Zt48KMv2ukf/Ml9QTGqZrEkdKxYEwiAWNHzwyTinE2hq3XYIqLjx34G3DO/CsIgmDdB0FE9GpGNvRDDyfikOvIhn7YR50nbypMOJwh71lM8THdRLRffnvITpMdf+vDhQx5jxp/opfwtOEPIqJtddCEMzX8wcniREXg8AcREREVgsMfREREVAh2KoiIiKgQ7FQQERFRIdipICIiokKwU0EbbWg95Zn2LDNOeURxki1HnciUluZTf2kNwvogOuw8xQs3QL5bSrNPeUvwNizaPENLRTd5UibR04ydM5iwMPBZs4UorxVvKQ0fDdr/l4/QptcxtCRcyqvEWxij3kc+ApueZ/XYI6KChj/CNGH7XizlKqRr7tuZFOMQ7VQ6h2lGiqVjYbrY0rKhjahiJNECY0df0t6M4f149cOinbLkvAiE50ahPWvfC8tGNvRk2awii5nz5tQ66xkGLnRORVcLe/a+78M5dmH+X77OwdCqwXznRBUDB7B+qBwH31PpWPDhHItLx7B1FV5nEC13IJ/Wwh9i8gMMi4J1tUU/Rtp3JbUH3/cx6GRLO8YNcVisyT2tzT4ZEOU0/7w4RPtrPWnrfNtIV2gua+j5PvzvFmYVIB07Z6m20k9NRVjQVr6wYidqHjtJqrD6wRBKQS8yRP/KgJOMf5egfTRerjw1ba64JPW8uRCjW/Rh4SJJR1dx1FHQ/Tqc/AB9BwbCaoDTPzSiZapoxhc3SlhhNIyj/SoKRQWae16soim2dQd1GPDgrdJ5verPvmha1Fa+sEJrf6TqxB804fdybDTy4KE7VYYYilXkodEu+O3BdbtCyenI8cl6joeIaIlF58WhlR3iVZD3zFdSe3C8SQ0bpSPM/1ljW7khBcV4FwnlpFgY9Dgbn4i229jRoV6J576wVPoqqqYP34y3rUGH0LFYU1v5es+pcD38AhCP9SR5ifJ71JUuVE7OpLIMGV30o3G/8EcnLD+ow3BNnHG+DRHtAkXG39GfQ0s4L67sb8jixIs1tpWvk6nIlBo2bAeGG/fIStB6A0CvQZImm6RSObQnqmjaBiRNCn9cxw4GHeBMXO47aEs1SKeTrQybt4/SKsLbjs3kLiEX0hUAPtuEXlFJPYFxqiZDFErHgoF+snzs6KidTm5lc6UuJln9bAwjjF9hDsW62kqWPiciIqJC8DHdREREVAh2KoiIiKgQ7FQQERFRIdipICIiokKwU0FERESFYKeCiIiICrGeTsXIhs5CT5TD0Fqhut7Sqn5Eoqh4WKqCMhE9BzMVtDuWVPUj2gq86KLYfXvrOr0bUvuDiOi1hRVJm+s+DKIdskKmYgxbj1PL2ZThEG2pjaGYfs72ru7bk20PTbhT+ycCsnGWruAHJCnr6F/uoREiwdjRJ+1Rqu7QGLauw3baybKhFa7XFmrS6M44eV9cFkrHaLotDOO7fQ9hex32SNju0ISLLlQpu5y2y6LvOiKeF8Vl8blU6wKuidrUsO5k38mnOboQy4s/e3kMP0OQ0+NNK7j+k7wKrhuVoHHzGL1+CFqVSlCptIIH4XXrLlr85zpoVBqT7f9cB41kXaKJh/NKUDl/SL2exNnsuEviLMb4opwebxqpeItjrNK4Dh7/XAeNShhv4nqPN42gUhHi8K4ltH3ZGI32l3xG9FrYPhvzjN9dseS7zp4XU3EkvNe4Dh6DrHDfYtuXjuXFn52N4cebxpzPWV3uTEVJbUIrJ6/w/l8FrvdLWEOB9T0u4VpF/Rjwfob98+H/mUDnQtieaIaRjcsrA868ok6jW/Rh4UIomnPUUdD9ytFnKpbxMS4ZbeBkVmHDY2dS8PCgDgMevBGA+88wXXGbErS2BeWqn54jIWxf/WAAP7ytGjenFcz5rsff+unz4sERLGVSpfklPzu7rPRPHUpSSfx58s+pGNnQs8MWxycFHAJRTr89uG43qeqXYBzS2rnwfkd/CuWs5zE+CB3ngyb83ksdF63bvO966Llwr9JVRAHA+Pjyn/2SHdicnYoh2ocm0BkkpVXHjo6a94JHRjSLYmHQi68iiTaFAvkNgN8Aoiu+JEZ/e3ABsOtLWUpnMMl47YiVbimV30b/8SMbZ6f5p1r+LStwv9xGvaOwg8KJmjSlLEPGJP03dvT0RM2DOgzXxBknZ9IGGVoqukod78uIhkK6uExidAz7UxdK5whzBvWmZX4HtJuqHwy4p2eLJ+G+kaG4fdzOWSeeYoD7NmornJNfUs5ORTR2rcV3b3iod/I/CaCkXsBCPIP1EvJ3B8YTD5h2WRVN20jirOadYJCKsyqavgP5tCbMmE7PypemZs/zfn/KmtxhVDt1gSt1xl0gS8TbSBLUH2L2LBujNZjvnBWvRtO/A979saMOmvBtGeahcKdQtr0qa7joQFgnXh7O1UEcZ59kOCuck1/SX0EQBOs+CCKibREO/Z7AnzehmGiP8YmaREREVAh2KoiIiKgQHP4gIiKiQjBTQURERIVgp4KIiIgKwU4FERERFYKdCtoqYlW9eRVKw3UW3Ns/rzIg7ZmoKmi2ojIRPRk7FbRVqqYP3/fhHD91D0O0tS4MO9yP7/dY6I6IXsh0ifJdl7+gGNGWqJo+fHPOwpEHDwZODl71kGgjVdH0fTTXfRhEO2SFTMXk0bbSzJRhlEqcu5woj0ycrfLo5JENfd7jbmNRcSfab8kj3WfF2H0bkjVMrTNvqI1onnAYtgbThfDIdSGWRjZ0qY2heO5Mzpvhe+kMx6z3NlCQ0+NNK7j+k7wKrhuVoHHzmCx/OE+/JnqKh/NKUDl/iF5Nx5m43tx4+3MdNCqt4EF46/GmEVQqlel/5w+z90F74fGmMR0Dd610bNy1gkomnojyCduw1t2MRX+ug0alElQqjejc+hC0KpN1021hsDVxmDtTUVKbwthzCe//VeB6v1LrTCqREj3FEP0rA05SU6EE7aNRSFyV1F44h8I2ABhw/GhOBes30CyKhUEcGwd1GPDgcUIvvQDDjud1VVE/nlQerf5nQbnqJxnX4dcVq92uSf7hj1RqWZoqs1o1B0Il0i1I0dDmGXnwkuqi0T+tu+6jIiJ6IQbqwvyuqulPKtqW36OudNG/B+ILrpOVqt2uR86JmkO0D02gM4Af/UeFlfrEdUrQej40IOyAHEpo2z6anBBHKzHg+M2N740TEb2scETA/DpEE310j+tbMal4pVtK5bdRL2lk4+x0wXS3sgz5OUdF+ynqmaurTM4kItpYJcjvgO7Xp7VpJfUExtUl9E8erP+241IrZ6aiiqOOgpomIUxGG7A6CtwkUzFEW1IhJqqVzgA9ZiloJSVovQGg1yBJk3eVziBKCWbjrAbpdLJ87OipYTlX6oKZD5o2hq2Hs/JDLqQrAMcO59hQ4aqmA0NSwxiD2J7l2hr1YxfqDwsXW/I8HVYpJSIi2lBDS8KlvEpHZL3YqSAiItpE921IGrYq28rHdBMREW2SuD6R5sH6vj0dCoCZCiIiIioIMxVERERUCHYqiIiIqBDsVBAREVEh2KkgIiKiQrBTQVslLCfMctRUhKjkdFJumugV3bdzxV7Y5umwMwXtxo4+qZG0QU8h3o1ORVKXnnZd1QyrizrH6z4SIqL1iSsvDzrKug8lJedjuomIdk0VTd/fiiJNtL+qpg/fXPdR5LdCpmIMWxdKUk+lbaJU4rzl8cM8ZqauM/tOpXLCZe17MfUdp4Kizzw04aZKZk+nimhbLIqFHFuLKUEpjJui9k27Y2nqeGF7RbTM5LyVNkQ7c376JcRiKs5GNvQkBp+SiU+fk18thoOcHm9awfWf5FVw3agEjZvHZPnDefp12kPQqjSE7TNLzytB5fxhzr7D15XK5L30+kEQ/LkOGpVW8BDQtlscC+n1pt5fEgd590374/GmkW5LgiBY1l4R5TH7nCjE1l0rqFSENumuFVRmtV9L2rXZMZxt3x6CVqUStO6e8R+UU+5MRUltQkuqpIV13l3vV2od98vtgkknLvrfZi0don9lwEmqA5agfTSm93XsJAVVqh8M4IfHyVU7J2csLNRFf+rqoKh90/6Y114R5fO3HM91ELIWIw8eZMjxuVSxMIjbpIM6DHjwisiyj27Rh4WLpAhZWGn8qSXYV5F/TsXIhn5owhXfOz5J/qyaA1h6DTUpHPwxbB/NpPR5Fc3vFvTDsFR1qhz1yIOHLlRJLJwOQLFSL40PwtPPD5rwe7mPnLZFzliYq6yhZ3uQNCksj65YGPQ0lIrYN+2RBe0VUU6ltzLcr7/CtuedAfwcA28AKDL+fukP/+3BdbvJ+TghnLNfSs5OxRDtQxPoDOBHPZ+xo6PmieuUoPV8aEDUAZHQFjsWZQ09X5tsK7WFHyp/tBR7ZiwcNOH74dS7oSWhpmPSsWCcUV4L2yuiHN7IUH54GH7rAx8uIH+9xfitB/ddHa9SxFy8qHpFK91SKr+NDm9k4+zUnb9iWYa8YD+lt8LS8nvUlS7U50yaK8uQ56a9aWsUEQuCSfqx+H3T/ki1V0Qr8jwZ9YMSZPTx+asHRX7xPEU4lOKaOFvDBOOcmYpwPKYWp5VhwOoocJNMxRBtSYWYWFY6A/TiLMV9G5KWWgrrey/q9Zeg9QaAXoMkZbZX8/axqmjaxiTtHe1/MgeEtsOyWMjGWZiejpePHR21VGfXgOPHPfUi4ox2wxi2XoOZhIoL6QrAsQPfrC5pr4hyKsuQXRXmOwc+AHyQoWpdGHa+9ibbnrlSF5Ns65IYRhVN30FbiofwQulpCS+Dpc+JiIioELvxRE0iIiJaO3YqiIiIqBDsVBAREVEh2KkgIiKiQrBTQURERIVgp4KIiIgKwU4FEe2dpVVKn77nOdUpi1qfdk0ci6vFwObGDTsVRHmNbOhPKkFMm6ak9uD7PgYdZfnKROty34ak21tV9DB/QTEiIiIqVEntwVfXfRTFWSFTEaZbkpThVO9piLY0a3m4nZ56Brn43hi2rsMeidtPXw2m0pUrp4poe2TiTExN37cz3320bioW58Xhkn1jiLbUxnBkQ5/aNtrnoQkXXajJ/nXYRZQpps0Txdp0exPGiR21R7ozjGIqGwuL2jNxmfio5WWfTdtj3vDEEO0kVsQ4yMRP3A5pXcA1UcsVSxuSRQ1yerxpBdd/klfBdaMSNG4ek+UP5+nX6W0bQaVxHSRL/1wHjUoj2l+4r0rmtbivx5tGUKm0goe8B0tb6+G8ElTO4296cSxMxVXwELQq8+Nw8b7DbSdxNv3ZYdwyDnfJ401DiInYQ9AS37trCXERxcn5Q/R+JWjdie1ftj1bFnfh69Zdns+mbTL7nPgQtITYmP9e5K6VaeNiy8+b65I7U1FSm0KBrhLe/6vA9X6l1nG/3M4c+ympJzDcPm6jntj4Wx/u8Umq4JdhxwXAsvse4vOpC8Nm2eHdN0T/yoBjxt90CdpHIxVXJbUH57iLS8fG51PAak9K+46dS3QVCxczC4Qt33dYOKqZFLqbFeO0D6pomkJrc1CHAQ9eciWpwPovWq5YOJpRoGnSngHVDwZw1Q+vIu8/w8S8GM3z2bQtJlWShazFyIMHGXJBxS7nnzfXJ/+cipEN/dBEKlN3fJL8WTUHsPQaapIJIFsNrYr6sYvLb2NoKnD7BbDaObsIIw8eFNTf5D5S2lYjDx66UKVu+n3FSr2smg5kSYXXGaAp/Dh/eS7w7gQzm+uc+57yw8MY1dn7pJ01tCSoV+I7CpZEynxvZCjwlq/3Ep9Na1N6K8P9+itse94ZwM8x8AaAIuMVip+vTc5OxRDtQxPoDOBHPeyxo6OW+p2UoPV8aEDUAZHQFjoW1Q8G3E+3GP8D9FHHRd6eWlmGnHNV2gVxad95xrB1FbAdyFoN7beTGPtbVrC47V627xneyexQ7Jmxo0O9EmNliLZ0+fQd/vbgKjIu1vHZtD5vZCg/PAy/9YEPF5C/3mL81oP7rr7TbcpKt5TKb6P/FSMbZ6fZ2UWCWR2BgyNYMHHW7EP+qK3wPzXMcpjN7bqthp6g/B51pQt1wXMDxs4ZTFg4OqiiaRvoapPJSaV/6lCu1NkT23LsOyWKceOD0AUpy5DRRZ8T53afcDU5tFR0F668yBj2py6Uf9+Hbd4bGYowFDy0ZkzULOyzaRN4noz6QQky+vj81YMir5CnyMTLNsjZqajiqKOgq0WzTA891FP3d2dm3Mep6dRYYzTm48qozxiDXPjppg/nnTgDljOid1MJWm8A64eamv0e3zk0dnTUxHkUB0ewlC7UeNZzWUPvuwVPE2IxuYNj8b5DLszDOMZNyKkhPACIOzK8+2O7Te4Cqp26wJWauhsonAM2aW8uZQvGip8wiZEa+v8O0IvnUJQ1XHSQxNmlPIBzPNmuiM+mDVGWIbsmTNRRBVD9IKN75U4uzpO7fFR0k7Yn06Zk4mVj7vBY4K8gCILX+rBwyOQEvskpl7RpwjSz/L2XmkBMRET5vd7Dr0Y2zk4B6zs7FERERLvo5TsVwl0jhu3zKpCIiGhHverwBxEREe0uFhQjIiKiQrBTQURERIVgp4KIiIgKsUGdiuhZF1tWO55eSKpS45wKfnkfZJXT0Jr3/ApgYUVBIkGqonLBMbrM4himTRTHy6rPXlotzuZVTS3eBnUqFnm9/yG0CYZoa10Ytg/f9+H7r/PsiKoZfp74MCJhKZq+D993+DAiWqik9uD7PgapBwS+jsUxTLtknXG2yOs9p2KpsNFurvswaP1GHjwYOJn35NWyhp6vveohERG9hJLag6+u+yiKs0KmYvJo2/Tjj+dlEYZoi2niVDo7vf6iNE6Yzgufj9/VmNrbC789zKsssyi9O3Z06M44tU46LufF8HOFQyPpz5r1Hm2GMWxdhz0Sh7TSjz9OtUkz2qvFcbZEPHw3N3WdidPUsb1UDFPRxo4+9f2k31s+pJqOw1Uf0S3uf0aNmReSu1Mxdj4D7TgdPQiLgzljACXI7wDv56LQHqL9tR5t68PPFoJakMYJ03kDWAqEdLg/eZY+7YzkB6R1AXShzmh0l6V33dMaLuVBEk/dT5Mf9fwYfq4q6sdA96vwk7/vowtj5To39FpcmIeXkL/H7UsXl3Es3LdRO5XhpNqrdKO/KM4WCys+y0lb5sC4UoUO8hi2XoP5zpm0l0Jl3ZeLYSpa6Z96phjYGLdf3ElxuWVDqpk4HHQ8qLk7kWE1Z68zmMTKK42S5O5UlNSmMK4dFQfzfgGISk4DSGUtRh48yJDLAFBFU6z3cVCHAQ8eJ7uRIO5c+raBsEx51HiuUivm2Ek6nOGP2sOvZP/zY/i5qv9ZUK76SUd5+LULpXO0Wpl1elWGHc/VEWMhqioqfncHTTjHLvrfhOZ8QZwtMnYu0VUsHCWdzbBInfvlNjxZ3H+G6Rpw5sT8S8YwFays4USMm9Et+q6Bk5wXxMOvXRj2pEMZFpvLWbH0/jNMWLhYw8V3/uGPTMquJpQ+L72Vw8Ae3cJ7ZwBx1iJVwjddxZTlfOnVLYjhZ4tKq4dl0YfoX+VvPGjzJJUkX8I7GfP2Pv7ppdrNKS8Zw1S46odJh3H8rQ/kvtAYw/uRHvLflvNmzk5FmLJDkkrJDFW8kaH88DD81gc+HEH2bjH+7cGNfjxjR4d6JVx5cgY9vbolMfxs4VVj9+swHPo4rjNLscXSw7lhA1+YH156nP2nl/xdeisv2PClY5gKd1CPsgtj3H4B6v+s1lkVh/xf806451jpltKk9z6ycTajh+x5MuoHJcjo4/NXD4os9LdTWYtVe1zhvI3UmDXREyyL4ecoqScwri6hf/Jg/ccuxXaKhhROP08mxUVDEkVknsKhEhOfk4mdQ3w+dWF81MLsxUEdhrt4nsRLxjAVrYqjDmA2z9B/d7JCh5Rd37AAAASNSURBVCC6SNFWnZwZeSOn5nMMrY2bqFnFUUeZpGIOPdTFHnJZhuyaMBFenVU/yOheuUnwh2NBJmpRGudStoRMxWQ2c+3UBa7UmTOiq2Y4oYl3f+yzyWxm9SqcLJc/FpbE8LJ9J3cvqejChXk4a8Z2FfVjFy7qeL/hVxM0X0nthZPi4rSz5sH63sydtl7YnpU19L5b8LRJStvrDNAU51j4DuQo/tKz/p8Zw7QWYUfShfwhE0FL2pSpOJxx1+WiOLvoINqnhEt58GrPLmGVUqICDa3wB8y7k4gIQDgP5tDDiZ+3Y7rdNujhV0Rb7r4dzR1ih4KIAGAMuxnOg9mHDgXATgXR8923o2drKLC+9/am8SCieaLnjbgAjh34e5S55PAHERERFWJLCooRERHRpmOngoiIiArBTgUREREVgp0KIiIiKkTOTsW88uavgSWk91LyYJj5ZYGJiGiz8JZS2kBDtLUuDNsXnjRItEHu25A+yRj0tLnFwYj2EYc/aPOMPHgwUGeHgohoq6zYqZg8W37yPHpAHB6ZlDjPpKwXprMnzzFPP998hrj076J1aLv99jC39k2m9HOqRsx9O4wLcR2LRegoawxb12GP5rVnYWVlSYizZPg1ji2tCwj1jLLbE+2tIJfH4LpRCSqVRnD9J3zn4bwSVM4fMssrQePmcXr5n+ugIWwb3LWCSqUVJFvftCbLon3F+wmCh6BVqQStu3g/0d+0cx5vGkGlUpn+l8SZEAvC6yRW7lrRNlFsZeOOKAiC6fYs0+Zk2qfwdSaO7lpBpXEdPAZEJFopU2HYk1ru1Q8GcNVP986PnaSQUvWDAfzwMAYw/tYHOheTsq8HR7CULvpR77+kNoWSsFHpYe9X+sN/2tAPTcgcZ99ZJbUH3/fh2wYAA47vh6/N8MHXY+cSXcXCkVjR0TbgfrkVslbKpKJk+T3qigvv9yv/h9BWmLRnYpszhv2pC6VzNHnc+kETzrGL/jfmRomWefpEzTcyFHiptwyxtOtBE34v/HPouXCvapBO07swPkZ/jMIOQyrlfXySWrd7agIwcMIOxX57Jy+eGKeIZcdL0Hr+yx8T7Rz5LadfEj3F0zsVvz24ioyLnKsrnXnloIdoH4ZV3OKiK2NHRy3dX4Fh+6h/laDqnHG91354GKOafP/jnx4AeZ1HRDvI+zkGDpIog/cDDDOiHJ5490eUIvz3fa6Te/WDAff0bOGzBpIrg5GNs9PZ0/Sq5gAWTNQ4+W4vlf6pQ3FNfE6eWTLE51MXxkd2Mqko0VDI6efJ0O79Z5iugRPxouiNDMXt45bPTyFKWSlT0dUkdKO/52ceZjhowrfbkA4lmMmbBhy/iSqqOOooqCX7NmB1FLjerB2VoPUceJIK6SrenvZGWUPvO6AfSpCit5TOAD0OiVGBSmoPA+ioSUmUTZe0L2u46PRRS9o0tkdEAEufExERUUH48CsiIiIqBDsVREREVAh2KoiIiKgQ7FQQERFRIdipICIiokKwU0FERESFYKeCiIiICsFOBRERERWCnQoiIiIqBDsVREREVIj/B3jywkWRFH9DAAAAAElFTkSuQmCC)"
      ],
      "metadata": {
        "id": "-f0S8-LIrAn1"
      }
    },
    {
      "cell_type": "code",
      "source": [
        "help('keywords')"
      ],
      "metadata": {
        "id": "6bVymt_8rWtB"
      },
      "execution_count": null,
      "outputs": []
    },
    {
      "cell_type": "markdown",
      "source": [
        "#Tipos de Valores \n",
        "\n",
        "\n",
        "\n",
        "*   Números\n",
        "*   Strings\n",
        "*   Booleanos\n",
        "\n",
        "\n",
        "\n",
        "### **Números**\n",
        "\n",
        "Em Python existem vários tipos de números, tais como `int` (integer), `float` (floating point) e `complex` (complex).\n",
        "\n",
        "\n",
        "**1. Inteiros**\n",
        "\n",
        "São números sem pontos decimais. No Python 3, efetivamente não há limite para o tamanho de um valor inteiro. Mas, ele é limitado pela quantidade de memória que seu sistema possui. Esses valores são do tipo `int`"
      ],
      "metadata": {
        "id": "vF49TrjIxT6m"
      }
    },
    {
      "cell_type": "code",
      "source": [
        "print(9187391837310731092037173)"
      ],
      "metadata": {
        "id": "lj461dndze4d"
      },
      "execution_count": null,
      "outputs": []
    },
    {
      "cell_type": "code",
      "source": [
        "type(7136782163691941204)"
      ],
      "metadata": {
        "id": "xWy6yVBxzj8t"
      },
      "execution_count": null,
      "outputs": []
    },
    {
      "cell_type": "markdown",
      "source": [
        "Sem prefixo, o python interpreta a sequência de numero como base decimal.\n",
        "\n",
        "Para indicar uma base diferente, você usa prefixos: \n",
        "\n",
        "![image.png](data:image/png;base64,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)"
      ],
      "metadata": {
        "id": "nU_zjpNt0Dk-"
      }
    },
    {
      "cell_type": "code",
      "source": [
        "print(10)\n",
        "print(0b10)\n",
        "print(0o10)\n",
        "print(0x10)"
      ],
      "metadata": {
        "id": "GvzPHSl91d-7"
      },
      "execution_count": null,
      "outputs": []
    },
    {
      "cell_type": "markdown",
      "source": [
        "O tipo, independente da base usada, continua sendo `int`"
      ],
      "metadata": {
        "id": "0r8Uckv31yGs"
      }
    },
    {
      "cell_type": "code",
      "source": [
        "type(10)\n",
        "type(0b10)\n",
        "type(0o10)\n",
        "type(0x10)"
      ],
      "metadata": {
        "id": "y4Wc4BfU14tT"
      },
      "execution_count": null,
      "outputs": []
    },
    {
      "cell_type": "markdown",
      "source": [
        "**2. Float**\n",
        "\n",
        "São números com pontos decimais. Em Python são representados pelo tipo `float`. É importante notar que a separação é feita com '.' e não ','.  \n",
        "\n"
      ],
      "metadata": {
        "id": "wdYtBw9H2Jle"
      }
    },
    {
      "cell_type": "code",
      "source": [
        "print(55.6)\n",
        "print(55,6)"
      ],
      "metadata": {
        "id": "HCLsrwIIsn-8"
      },
      "execution_count": null,
      "outputs": []
    },
    {
      "cell_type": "code",
      "source": [
        "type(55.6)"
      ],
      "metadata": {
        "id": "IVgfM6MV3KhV"
      },
      "execution_count": null,
      "outputs": []
    },
    {
      "cell_type": "code",
      "source": [
        "print(.1)\n",
        "print(3.)"
      ],
      "metadata": {
        "id": "xGs_rnm83Pqx"
      },
      "execution_count": null,
      "outputs": []
    },
    {
      "cell_type": "code",
      "source": [
        "type(.1)\n",
        "type(3.0)"
      ],
      "metadata": {
        "id": "f24Y_NJJ3fQO"
      },
      "execution_count": null,
      "outputs": []
    },
    {
      "cell_type": "markdown",
      "source": [
        "O python tem um número default de casas decimais. Mas você pode modificar essa quantidade utilizando a função format(). "
      ],
      "metadata": {
        "id": "jd9cK3LwB5oh"
      }
    },
    {
      "cell_type": "code",
      "source": [
        "x = 14.091830918388314791\n",
        "print(x)"
      ],
      "metadata": {
        "id": "lToCFRdXB66i"
      },
      "execution_count": null,
      "outputs": []
    },
    {
      "cell_type": "code",
      "source": [
        "print(format(x,'.2f'))"
      ],
      "metadata": {
        "id": "X9AGh6uFCGHn"
      },
      "execution_count": null,
      "outputs": []
    },
    {
      "cell_type": "markdown",
      "source": [
        "Você também pode escrever o número em notação científica:\n"
      ],
      "metadata": {
        "id": "D8ja6IKy-1j7"
      }
    },
    {
      "cell_type": "code",
      "source": [
        "print(.4e7)\n",
        "print(41e-4)"
      ],
      "metadata": {
        "id": "-86mytZK-6zI"
      },
      "execution_count": null,
      "outputs": []
    },
    {
      "cell_type": "code",
      "source": [
        "type(.4e7)\n",
        "type(41e-4)"
      ],
      "metadata": {
        "id": "9CxNTd5B-5uM"
      },
      "execution_count": null,
      "outputs": []
    },
    {
      "cell_type": "markdown",
      "source": [
        "Os floats têm um tamanho máximo que depende do seu sistema. Quando você atinge o número máximo de ponto flutuante, o Python retorna um valor flutuante especial, inf:"
      ],
      "metadata": {
        "id": "2ucS1-1Z_L2r"
      }
    },
    {
      "cell_type": "code",
      "source": [
        "2e400"
      ],
      "metadata": {
        "id": "jvqTb9CW_X1h"
      },
      "execution_count": null,
      "outputs": []
    },
    {
      "cell_type": "markdown",
      "source": [
        "**3.Complexos**\n",
        "Os números complexos são especificados como uma (parte real) + parte (imaginária)**j**. Por exemplo:"
      ],
      "metadata": {
        "id": "NDRu4JTa3w9k"
      }
    },
    {
      "cell_type": "code",
      "source": [
        "print(2+9j)"
      ],
      "metadata": {
        "id": "x0-ClYHO5SNy"
      },
      "execution_count": null,
      "outputs": []
    },
    {
      "cell_type": "code",
      "source": [
        "type(2+9j)"
      ],
      "metadata": {
        "id": "FG9HGMxn5r7j"
      },
      "execution_count": null,
      "outputs": []
    },
    {
      "cell_type": "code",
      "source": [
        "y = 10+7j\n",
        "print(y.real)\n",
        "print(y.imag)\n",
        "print(y.conjugate())"
      ],
      "metadata": {
        "id": "oeVlilfUUp6o"
      },
      "execution_count": null,
      "outputs": []
    },
    {
      "cell_type": "markdown",
      "source": [
        "###**Conversão de números**\n",
        "- Função int(), converte o número em inteiro "
      ],
      "metadata": {
        "id": "PvbF9wi-vJsJ"
      }
    },
    {
      "cell_type": "code",
      "source": [
        "num_float = 3.0\n",
        "num_int = int(num_float)\n",
        "print(type(num_float))\n",
        "print(type(num_int))"
      ],
      "metadata": {
        "id": "D53S2hGqDX8J"
      },
      "execution_count": null,
      "outputs": []
    },
    {
      "cell_type": "markdown",
      "source": [
        "- Função float(), converte o número em float"
      ],
      "metadata": {
        "id": "mnrW2vvDERPM"
      }
    },
    {
      "cell_type": "code",
      "source": [
        "num_int = 3 \n",
        "num_float = float(num_int)\n",
        "print(type(num_int))\n",
        "print(type(num_float))"
      ],
      "metadata": {
        "id": "Bp7TE0oPFJQh"
      },
      "execution_count": null,
      "outputs": []
    },
    {
      "cell_type": "markdown",
      "source": [
        "### **Operações com Números**\n",
        "\n"
      ],
      "metadata": {
        "id": "p1yag-Hj5y6Z"
      }
    },
    {
      "cell_type": "code",
      "source": [
        "#Adição \n",
        "3 + 4 "
      ],
      "metadata": {
        "id": "b4TjTUM7lmLS"
      },
      "execution_count": null,
      "outputs": []
    },
    {
      "cell_type": "code",
      "source": [
        "#Subtração \n",
        "5-7 "
      ],
      "metadata": {
        "id": "YQs2cVgOl73S"
      },
      "execution_count": null,
      "outputs": []
    },
    {
      "cell_type": "code",
      "source": [
        "#Multiplicação\n",
        "2*9"
      ],
      "metadata": {
        "id": "6RIEXN-lmAN-"
      },
      "execution_count": null,
      "outputs": []
    },
    {
      "cell_type": "code",
      "source": [
        "#Divisão \n",
        "35/4"
      ],
      "metadata": {
        "id": "BacDQuqdmDd4"
      },
      "execution_count": null,
      "outputs": []
    },
    {
      "cell_type": "code",
      "source": [
        "#Divisão inteira sem considerar o resto \n",
        "35//4"
      ],
      "metadata": {
        "id": "E9_oCNqOnn1a"
      },
      "execution_count": null,
      "outputs": []
    },
    {
      "cell_type": "code",
      "source": [
        "#Resto da divisão\n",
        "35%4"
      ],
      "metadata": {
        "id": "z2B05Bfzn9qL"
      },
      "execution_count": null,
      "outputs": []
    },
    {
      "cell_type": "code",
      "source": [
        "# Potência \n",
        "print(2**2) \n",
        "print(2**0.5)"
      ],
      "metadata": {
        "id": "F1K3c5Krmpvm"
      },
      "execution_count": null,
      "outputs": []
    },
    {
      "cell_type": "markdown",
      "source": [
        "**Qual o type() dos resultados?** \n",
        "\n",
        "- Nas operações de adição, se você adicionar um int + int, o resultado será um int. Porém, se você adicionar um float + int, o resultado será um float. Isso é válido para as operações de subtração e multiplicação também. \n",
        "\n",
        "- Nas operações de divisão, o resultado sempre será um float. \n",
        "\n"
      ],
      "metadata": {
        "id": "439zQl_ymc8Z"
      }
    },
    {
      "cell_type": "code",
      "source": [
        "print(type(32/8))\n",
        "print(type(32.0/8))\n",
        "print(type(32/8.0))"
      ],
      "metadata": {
        "id": "ObiLt7WAuwLH"
      },
      "execution_count": null,
      "outputs": []
    },
    {
      "cell_type": "markdown",
      "source": [
        "**Expressões Aritméticas**\n",
        "\n",
        "Uma expressão é uma combinação de números, operadores e parênteses que o Python pode calcular ou avaliar para retornar um valor.\n",
        "\n",
        "\n",
        "> Ordem das operações no python\n",
        "\n",
        "- Parêntese\n",
        "- Potência\n",
        "- Multiplicação / divisão\n",
        "- Soma /subtração\n",
        "- da direita para esquerda"
      ],
      "metadata": {
        "id": "ctUG6Zt6qmWx"
      }
    },
    {
      "cell_type": "code",
      "source": [
        "x = 45 + 8*8 - 13 **2 \n",
        "print(x)"
      ],
      "metadata": {
        "id": "bKkEICFuqizi"
      },
      "execution_count": null,
      "outputs": []
    },
    {
      "cell_type": "code",
      "source": [
        "x = (45+8)*8-(13**2)"
      ],
      "metadata": {
        "id": "s-C9XTAdS7d6"
      },
      "execution_count": null,
      "outputs": []
    },
    {
      "cell_type": "code",
      "source": [
        "r = 100/2/5/3\n",
        "print(r)"
      ],
      "metadata": {
        "id": "YRSxJIw_REkq"
      },
      "execution_count": null,
      "outputs": []
    },
    {
      "cell_type": "markdown",
      "source": [
        "O python divide primeiro 100/2 depois /5 depois /3"
      ],
      "metadata": {
        "id": "V-4mJ6oHRYOK"
      }
    },
    {
      "cell_type": "markdown",
      "source": [
        "**Funções Matemáticas**\n",
        "\n",
        "O Python tem algumas funções internas que você pode usar para trabalhar com números.\n",
        "\n",
        "![image.png](data:image/png;base64,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)"
      ],
      "metadata": {
        "id": "a70b6UZZTEaL"
      }
    },
    {
      "cell_type": "code",
      "source": [
        "round(3.778899)"
      ],
      "metadata": {
        "id": "sz2BtbAsTOTg"
      },
      "execution_count": null,
      "outputs": []
    },
    {
      "cell_type": "code",
      "source": [
        "round(4.91083017409714,2)"
      ],
      "metadata": {
        "id": "MRS_WCawCp5z"
      },
      "execution_count": null,
      "outputs": []
    },
    {
      "cell_type": "code",
      "source": [
        "abs(-3)\n",
        "abs(5)"
      ],
      "metadata": {
        "id": "FmyZVL7rTYfh"
      },
      "execution_count": null,
      "outputs": []
    },
    {
      "cell_type": "markdown",
      "source": [
        "- Função pow() \n",
        "\n",
        "  É utilizada para elevar um número a alguma potência. pow() recebe dois argumentos. \n",
        "  \n",
        "  O primeiro argumento é a base , ou o número a ser elevado a uma potência, e o segundo argumento é o expoente , ou a potência à qual o número deve ser elevado."
      ],
      "metadata": {
        "id": "Y772jxJcT1lz"
      }
    },
    {
      "cell_type": "code",
      "source": [
        "#Exemplo: elevar 2 ao expoente 3 \n",
        "pow(2,3)"
      ],
      "metadata": {
        "id": "WHLxTd58ULkd"
      },
      "execution_count": null,
      "outputs": []
    },
    {
      "cell_type": "markdown",
      "source": [
        "#Strings\n",
        "\n",
        "Strings são sequências de dados de caracteres. \n",
        "- O type() é representado por `str`. \n",
        "- Para criar uma string, você deve envolver os caracteres com '' ou \"\". \n",
        "- As strings são \"imutáveis\", o que significa que não podem ser alteradas depois de criadas, mas podem ser reemplazadas.\n"
      ],
      "metadata": {
        "id": "PEDoUiusUbIn"
      }
    },
    {
      "cell_type": "code",
      "source": [
        "'A Alexandra é um xuxuzinho'"
      ],
      "metadata": {
        "id": "JMbcBtnbZx1G"
      },
      "execution_count": null,
      "outputs": []
    },
    {
      "cell_type": "code",
      "source": [
        "#É o mesmo que: \n",
        "\"A Alexandra é um xuxuzinho\""
      ],
      "metadata": {
        "id": "nOd8PnhhaD0X"
      },
      "execution_count": null,
      "outputs": []
    },
    {
      "cell_type": "code",
      "source": [
        "#Mas não rola fazer: \n",
        "\"A Alexandra é um xuxuzinho'"
      ],
      "metadata": {
        "id": "gTVhtZORaLcn"
      },
      "execution_count": null,
      "outputs": []
    },
    {
      "cell_type": "markdown",
      "source": [
        "Uma string em Python pode conter quantos caracteres você desejar. O único limite são os recursos de memória da sua máquina. Uma string também pode estar vazia:"
      ],
      "metadata": {
        "id": "ggZETGvfZyWo"
      }
    },
    {
      "cell_type": "code",
      "source": [
        "''"
      ],
      "metadata": {
        "id": "AUvj4mtNZzkK"
      },
      "execution_count": null,
      "outputs": []
    },
    {
      "cell_type": "markdown",
      "source": [
        "Você pode criar variáveis com strings. "
      ],
      "metadata": {
        "id": "2tgeYXxXasb9"
      }
    },
    {
      "cell_type": "code",
      "source": [
        "Gostosa = 'Alexandra'"
      ],
      "metadata": {
        "id": "1KSTwfKVaTGo"
      },
      "execution_count": null,
      "outputs": []
    },
    {
      "cell_type": "code",
      "source": [
        "print(Gostosa)"
      ],
      "metadata": {
        "id": "dbn5_1qiaesa"
      },
      "execution_count": null,
      "outputs": []
    },
    {
      "cell_type": "markdown",
      "source": [
        "**Caracteres Especiais**\n",
        "\n",
        "Como colocar aspas dentro de uma string?"
      ],
      "metadata": {
        "id": "_89W5AfIbGEB"
      }
    },
    {
      "cell_type": "code",
      "source": [
        "nome1 = \"barriga d' água\"\n",
        "nome2 = '\"Bye bye, Mundo!\"'\n",
        "nome3 = \"\\\"Bye bye, Mundo\\\" \"\n",
        "\n",
        "print(nome1)\n",
        "print(nome2)\n",
        "print(nome3)"
      ],
      "metadata": {
        "id": "dWX8v7l-bJu2"
      },
      "execution_count": null,
      "outputs": []
    },
    {
      "cell_type": "markdown",
      "source": [
        "Especificar uma barra invertida na frente do caractere de aspas em uma string faz com que o Python suprima seu significado especial usual. Em seguida, é interpretado simplesmente como um caractere literal de aspas simples:"
      ],
      "metadata": {
        "id": "Jx1_zNiKd1sf"
      }
    },
    {
      "cell_type": "code",
      "source": [
        "print('This string contains a single quote (\\') character.')"
      ],
      "metadata": {
        "id": "Cmk7MMAod5-f"
      },
      "execution_count": null,
      "outputs": []
    },
    {
      "cell_type": "markdown",
      "source": [
        "Como fazer uma string com várias linhas?\n",
        "Você pode usar \"\"\" ou ''' ou \\n"
      ],
      "metadata": {
        "id": "ilQB5pLmbmYL"
      }
    },
    {
      "cell_type": "code",
      "source": [
        "varias_linhas = \"\"\"\n",
        "Quem é esse pokemon?\n",
        "É o Charmander! \n",
        "\"\"\" \n",
        "print(varias_linhas)"
      ],
      "metadata": {
        "colab": {
          "base_uri": "https://localhost:8080/"
        },
        "id": "26bK5Y--bpky",
        "outputId": "207cedce-b3c4-4d5b-ae62-cdc3b03e1afc"
      },
      "execution_count": null,
      "outputs": [
        {
          "output_type": "stream",
          "name": "stdout",
          "text": [
            "\n",
            "Quem é esse pokemon?\n",
            "É o Charmander! \n",
            "\n"
          ]
        }
      ]
    },
    {
      "cell_type": "code",
      "source": [
        "print('xuxu\\nbeleza')"
      ],
      "metadata": {
        "id": "K5XD_8OcfFJG"
      },
      "execution_count": null,
      "outputs": []
    },
    {
      "cell_type": "markdown",
      "source": [
        "Como inserir espaço no meio da string? Você pode usar \\t"
      ],
      "metadata": {
        "id": "nXwdiezdfN6O"
      }
    },
    {
      "cell_type": "code",
      "source": [
        "print('xuxu\\tbeleza')"
      ],
      "metadata": {
        "id": "rMvgP7FselZq"
      },
      "execution_count": null,
      "outputs": []
    },
    {
      "cell_type": "markdown",
      "source": [
        "**Operações com Strings**\n",
        "\n",
        "- O operador '+' concatena strings"
      ],
      "metadata": {
        "id": "CS5qMsQJgWNZ"
      }
    },
    {
      "cell_type": "code",
      "source": [
        "a = 'Ba'\n",
        "b = 'na'\n",
        "c = 'na'\n",
        "\n",
        "print(a+b+c)"
      ],
      "metadata": {
        "id": "4oRZ-U1Sg4zp"
      },
      "execution_count": null,
      "outputs": []
    },
    {
      "cell_type": "code",
      "source": [
        "print('xuxu'+'beleza')"
      ],
      "metadata": {
        "id": "9BeyDybAhbrn"
      },
      "execution_count": null,
      "outputs": []
    },
    {
      "cell_type": "markdown",
      "source": [
        "- O operador (*) cria várias cópias de uma string. Se s for uma string e n for um inteiro, qualquer uma das seguintes expressões retornará uma string que consiste em n cópias concatenadas de s:"
      ],
      "metadata": {
        "id": "7AlbzEx2hRQV"
      }
    },
    {
      "cell_type": "code",
      "source": [
        "risada = 'haha'\n",
        "num = 10 \n",
        "print(num * risada)"
      ],
      "metadata": {
        "id": "E3ONXHV2hu-w"
      },
      "execution_count": null,
      "outputs": []
    },
    {
      "cell_type": "markdown",
      "source": [
        "-  O operador (in) retorna True se o primeiro operando estiver contido no segundo, e False caso contrário"
      ],
      "metadata": {
        "id": "WNbApOXEiptr"
      }
    },
    {
      "cell_type": "code",
      "source": [
        "Bola = 'ball'\n",
        "gato ='Cat'\n",
        "frase = 'fishballcat'\n",
        "print(Bola in frase)\n",
        "print(gato in frase)"
      ],
      "metadata": {
        "id": "OfUR9JniiwOS",
        "colab": {
          "base_uri": "https://localhost:8080/"
        },
        "outputId": "45462a7f-1b50-4e59-a220-b92ad10fb842"
      },
      "execution_count": null,
      "outputs": [
        {
          "output_type": "stream",
          "name": "stdout",
          "text": [
            "True\n",
            "False\n"
          ]
        }
      ]
    },
    {
      "cell_type": "code",
      "source": [
        "#Not in \n",
        "print(Bola not in frase)\n",
        "print(gato not in frase)"
      ],
      "metadata": {
        "id": "PxKfaBTtjtO8"
      },
      "execution_count": null,
      "outputs": []
    },
    {
      "cell_type": "markdown",
      "source": [
        "###**Funções de string incorporadas**\n",
        "![image.png](data:image/png;base64,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)\n",
        "\n",
        "\n",
        "No nível mais básico, os computadores armazenam todas as informações como números . Para representar dados de caracteres, é usado um esquema de tradução que mapeia cada caractere para seu número representativo.\n",
        "\n",
        "O esquema mais simples de uso comum é chamado ASCII . Abrange os caracteres latinos comuns com os quais você provavelmente está mais acostumado a trabalhar. Para esses caracteres, ord(c)retorna o valor ASCII para character c:"
      ],
      "metadata": {
        "id": "etweLTaRjsVG"
      }
    },
    {
      "cell_type": "code",
      "source": [
        "ord('a')"
      ],
      "metadata": {
        "id": "Aqsh0EHEk_0Q"
      },
      "execution_count": null,
      "outputs": []
    },
    {
      "cell_type": "code",
      "source": [
        "chr(97)"
      ],
      "metadata": {
        "id": "0y3GZqF9k7C3"
      },
      "execution_count": null,
      "outputs": []
    },
    {
      "cell_type": "code",
      "source": [
        "len(frase)"
      ],
      "metadata": {
        "id": "3rZn7-JGlCGy"
      },
      "execution_count": null,
      "outputs": []
    },
    {
      "cell_type": "code",
      "source": [
        "x = 55 \n",
        "str(x)"
      ],
      "metadata": {
        "id": "RyjT_6KBlDcx"
      },
      "execution_count": null,
      "outputs": []
    },
    {
      "cell_type": "markdown",
      "source": [
        "**Mais funções** "
      ],
      "metadata": {
        "id": "3W_RKu6BkUGb"
      }
    },
    {
      "cell_type": "code",
      "source": [
        "print(frase)\n",
        "\n",
        "print(frase.lower()) #Transforma todos os caracteres em letra minúscula\n",
        "\n",
        "print(frase.upper()) # Transforma todos os caracteres em letra maiúscula\n",
        "\n",
        "print(frase.title()) # Transforma primeira letra de cada palavra para maiúscula\n",
        "\n",
        "print(frase.capitalize()) # Transforma primeira letra de cada frase para maiúscula\n",
        "\n",
        "print(frase.replace('f','z')) # Troca a primeira str, pela segunda \n",
        "\n",
        "print(frase.swapcase()) #Troca o tamanho de todas as letras \n"
      ],
      "metadata": {
        "id": "mi4WUnZjkc1s"
      },
      "execution_count": null,
      "outputs": []
    },
    {
      "cell_type": "code",
      "source": [
        "ordem = 'bacdgfe'\n",
        "print(sorted(ordem))"
      ],
      "metadata": {
        "id": "8qEOJ0MVTFw6"
      },
      "execution_count": null,
      "outputs": []
    }
  ]
}